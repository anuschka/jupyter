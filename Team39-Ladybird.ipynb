{
 "cells": [
  {
   "cell_type": "markdown",
   "metadata": {},
   "source": [
    "# Team Ladybirds\n",
    "\n",
    "Ana Sustic (AS), Elena Lestini (EL), Rudo N Takavarasha (RNT)\n",
    "\n",
    "# Data analysed\n",
    "\n",
    "For this study we used data made available online by freeCodeCamp (https://github.com/freeCodeCamp/2016-new-coder-survey ). The survey was designed by CodeNewbie and Free Code Camp as an anonymous 5-minute survey. More than 15,000 participants from 169 countries have answered the survay from March 28 through May 2 (2016). The 2016 New Coder Survey is made available under the Open Database License: http://opendatacommons.org/licenses/odbl/1.0/. Any rights in individual contents of the database are licensed under the Database Contents License: http://opendatacommons.org/licenses/dbcl/1.0/\n",
    "\n",
    "# Definition of activities for team Ladybirds\n",
    "\n",
    "Udacity Data Scholars beneficiaries of Bertelsmann Data Science Challenge Scholarship Course and participants of Team 39 listed different interesting aspects that could be derived from questions available on survey, the suggestions were voted and top three divided between each of three subgroups (Butterflies, Dragonflies and Ladybirds). \n",
    "\n",
    "The Ladybirds group decided to analyse and visualise age and gender to hours spent studying. These relate to the following questions from the survey (https://github.com/freeCodeCamp/2016-new-coder-survey/blob/master/raw-data/survey-questions.txt): \n",
    "* 2.01 age\n",
    "* 2.02 gender\n",
    "* 1.11 hours spent studying\n",
    "  "
   ]
  },
  {
   "cell_type": "markdown",
   "metadata": {},
   "source": [
    "#### Read the data from URL."
   ]
  },
  {
   "cell_type": "code",
   "execution_count": 1,
   "metadata": {},
   "outputs": [],
   "source": [
    "import numpy as np\n",
    "import pandas as pd\n",
    "import io\n",
    "import requests\n",
    "import matplotlib.pyplot as plt\n",
    "import seaborn\n",
    "url = \"https://raw.githubusercontent.com/freeCodeCamp/2016-new-coder-survey/master/clean-data/2016-FCC-New-Coders-Survey-Data.csv\"\n",
    "s = requests.get(url).content\n",
    "data = pd.read_csv(io.StringIO(s.decode('utf-8')),low_memory=False) #read the data from url"
   ]
  },
  {
   "cell_type": "code",
   "execution_count": 2,
   "metadata": {},
   "outputs": [
    {
     "data": {
      "text/plain": [
       "(15620, 113)"
      ]
     },
     "execution_count": 2,
     "metadata": {},
     "output_type": "execute_result"
    }
   ],
   "source": [
    "data.shape #number and size of dimensions "
   ]
  },
  {
   "cell_type": "markdown",
   "metadata": {},
   "source": [
    "#### Dataset has 15620 raws and 113 columns."
   ]
  },
  {
   "cell_type": "code",
   "execution_count": 3,
   "metadata": {},
   "outputs": [
    {
     "data": {
      "text/plain": [
       "1765060"
      ]
     },
     "execution_count": 3,
     "metadata": {},
     "output_type": "execute_result"
    }
   ],
   "source": [
    "data.size #numer of items"
   ]
  },
  {
   "cell_type": "markdown",
   "metadata": {},
   "source": [
    "#### Dataset has 1765060 items."
   ]
  },
  {
   "cell_type": "code",
   "execution_count": 4,
   "metadata": {
    "scrolled": true
   },
   "outputs": [],
   "source": [
    "age = data.Age "
   ]
  },
  {
   "cell_type": "code",
   "execution_count": 5,
   "metadata": {},
   "outputs": [
    {
     "name": "stdout",
     "output_type": "stream",
     "text": [
      "0        28.0\n",
      "1        22.0\n",
      "2        19.0\n",
      "3        26.0\n",
      "4        20.0\n",
      "5        34.0\n",
      "6        23.0\n",
      "7        35.0\n",
      "8        33.0\n",
      "9        33.0\n",
      "10       57.0\n",
      "11       23.0\n",
      "12       47.0\n",
      "13        NaN\n",
      "14       31.0\n",
      "15       27.0\n",
      "16       29.0\n",
      "17       30.0\n",
      "18       30.0\n",
      "19       25.0\n",
      "20       29.0\n",
      "21       44.0\n",
      "22       21.0\n",
      "23       21.0\n",
      "24       28.0\n",
      "25       25.0\n",
      "26       24.0\n",
      "27       23.0\n",
      "28       34.0\n",
      "29       18.0\n",
      "         ... \n",
      "15590    49.0\n",
      "15591    34.0\n",
      "15592    29.0\n",
      "15593    29.0\n",
      "15594    32.0\n",
      "15595    44.0\n",
      "15596    45.0\n",
      "15597    34.0\n",
      "15598    51.0\n",
      "15599    28.0\n",
      "15600    38.0\n",
      "15601    41.0\n",
      "15602    35.0\n",
      "15603    48.0\n",
      "15604    32.0\n",
      "15605    34.0\n",
      "15606    53.0\n",
      "15607    36.0\n",
      "15608    40.0\n",
      "15609    54.0\n",
      "15610    29.0\n",
      "15611    36.0\n",
      "15612    43.0\n",
      "15613    36.0\n",
      "15614    30.0\n",
      "15615    28.0\n",
      "15616    43.0\n",
      "15617    43.0\n",
      "15618    37.0\n",
      "15619    30.0\n",
      "Name: Age, Length: 15620, dtype: float64\n"
     ]
    }
   ],
   "source": [
    "print(age)"
   ]
  },
  {
   "cell_type": "markdown",
   "metadata": {},
   "source": [
    "#### The output for Age shows us that the Age variable is encoded as numeric data types (floats) but a same values for age are NaN."
   ]
  },
  {
   "cell_type": "code",
   "execution_count": 6,
   "metadata": {},
   "outputs": [
    {
     "data": {
      "text/plain": [
       "count    13613.000000\n",
       "mean        29.175421\n",
       "std          9.017716\n",
       "min         10.000000\n",
       "25%         23.000000\n",
       "50%         27.000000\n",
       "75%         33.000000\n",
       "max         86.000000\n",
       "Name: Age, dtype: float64"
      ]
     },
     "execution_count": 6,
     "metadata": {},
     "output_type": "execute_result"
    }
   ],
   "source": [
    "age.describe()"
   ]
  },
  {
   "cell_type": "markdown",
   "metadata": {},
   "source": [
    "#### We can see that the count of age(13613) is less than the total row count of hte data set(15620). This indicates missing data."
   ]
  },
  {
   "cell_type": "code",
   "execution_count": 7,
   "metadata": {},
   "outputs": [],
   "source": [
    "missing_age =  2007/15620"
   ]
  },
  {
   "cell_type": "code",
   "execution_count": 8,
   "metadata": {},
   "outputs": [
    {
     "name": "stdout",
     "output_type": "stream",
     "text": [
      "0.12848911651728553\n"
     ]
    }
   ],
   "source": [
    "print(missing_age)"
   ]
  },
  {
   "cell_type": "code",
   "execution_count": 9,
   "metadata": {},
   "outputs": [
    {
     "data": {
      "text/plain": [
       "(array([   13,    89,   556, ..., 15158, 15184, 15351]),)"
      ]
     },
     "execution_count": 9,
     "metadata": {},
     "output_type": "execute_result"
    }
   ],
   "source": [
    "missing = np.where(age.isnull() == True)\n",
    "missing"
   ]
  },
  {
   "cell_type": "code",
   "execution_count": 10,
   "metadata": {},
   "outputs": [
    {
     "data": {
      "text/plain": [
       "2007"
      ]
     },
     "execution_count": 10,
     "metadata": {},
     "output_type": "execute_result"
    }
   ],
   "source": [
    "len(missing[0])"
   ]
  },
  {
   "cell_type": "markdown",
   "metadata": {},
   "source": [
    "#### It appears 12.8% of Age values are missing."
   ]
  },
  {
   "cell_type": "code",
   "execution_count": 11,
   "metadata": {},
   "outputs": [
    {
     "data": {
      "text/plain": [
       "array([[<matplotlib.axes._subplots.AxesSubplot object at 0x7f8e1795cf28>]],\n",
       "      dtype=object)"
      ]
     },
     "execution_count": 11,
     "metadata": {},
     "output_type": "execute_result"
    },
    {
     "data": {
      "image/png": "[encoded data removed]",
      "text/plain": [
       "<Figure size 648x432 with 1 Axes>"
      ]
     },
     "metadata": {},
     "output_type": "display_data"
    }
   ],
   "source": [
    "data.hist(column='Age',    # Column to plot\n",
    "                figsize=(9,6),   # Plot size\n",
    "                bins=10)         # Number of histogram bins"
   ]
  },
  {
   "cell_type": "markdown",
   "metadata": {},
   "source": [
    "#### From the histogram, we see that ages between 24 and 32 are the most common, so filling in missing values with a central number like the mean wouldn't be entirely unreasonable. Let's fill in the missing values with the mean value of 29.17."
   ]
  },
  {
   "cell_type": "code",
   "execution_count": 12,
   "metadata": {},
   "outputs": [
    {
     "data": {
      "text/plain": [
       "count    15620.000000\n",
       "mean        29.174724\n",
       "std          8.418427\n",
       "min         10.000000\n",
       "25%         24.000000\n",
       "50%         29.000000\n",
       "75%         32.000000\n",
       "max         86.000000\n",
       "Name: Age, dtype: float64"
      ]
     },
     "execution_count": 12,
     "metadata": {},
     "output_type": "execute_result"
    }
   ],
   "source": [
    "new_age_var = np.where(age.isnull(), # Logical check\n",
    "                       29.17,                       # Value if check is true\n",
    "                       age)     # Value if check is false\n",
    "\n",
    "data[\"Age\"] = new_age_var \n",
    "data[\"Age\"].describe()"
   ]
  },
  {
   "cell_type": "code",
   "execution_count": 13,
   "metadata": {},
   "outputs": [],
   "source": [
    "hours_learning = data.HoursLearning "
   ]
  },
  {
   "cell_type": "code",
   "execution_count": 14,
   "metadata": {},
   "outputs": [
    {
     "name": "stdout",
     "output_type": "stream",
     "text": [
      "0        30.0\n",
      "1        30.0\n",
      "2        20.0\n",
      "3        20.0\n",
      "4        25.0\n",
      "5         5.0\n",
      "6         8.0\n",
      "7         NaN\n",
      "8         5.0\n",
      "9        20.0\n",
      "10        8.0\n",
      "11        5.0\n",
      "12        5.0\n",
      "13        5.0\n",
      "14       10.0\n",
      "15        4.0\n",
      "16        5.0\n",
      "17        2.0\n",
      "18       20.0\n",
      "19        NaN\n",
      "20       10.0\n",
      "21       30.0\n",
      "22       25.0\n",
      "23       25.0\n",
      "24        1.0\n",
      "25       10.0\n",
      "26        NaN\n",
      "27       20.0\n",
      "28       20.0\n",
      "29       10.0\n",
      "         ... \n",
      "15590    20.0\n",
      "15591    10.0\n",
      "15592     2.0\n",
      "15593     7.0\n",
      "15594    12.0\n",
      "15595     5.0\n",
      "15596     5.0\n",
      "15597    15.0\n",
      "15598    30.0\n",
      "15599     2.0\n",
      "15600     6.0\n",
      "15601     2.0\n",
      "15602    15.0\n",
      "15603    10.0\n",
      "15604     1.0\n",
      "15605     3.0\n",
      "15606    10.0\n",
      "15607    69.0\n",
      "15608    10.0\n",
      "15609    10.0\n",
      "15610     8.0\n",
      "15611    10.0\n",
      "15612     3.0\n",
      "15613     1.0\n",
      "15614     2.0\n",
      "15615    20.0\n",
      "15616     3.0\n",
      "15617     6.0\n",
      "15618    40.0\n",
      "15619     4.0\n",
      "Name: HoursLearning, Length: 15620, dtype: float64\n"
     ]
    }
   ],
   "source": [
    "print(hours_learning)"
   ]
  },
  {
   "cell_type": "markdown",
   "metadata": {},
   "source": [
    "#### The output for HoursLearning shows us that the HoursLearning variable is encoded as numeric data types (floats) but a same values for age are NaN."
   ]
  },
  {
   "cell_type": "code",
   "execution_count": 15,
   "metadata": {},
   "outputs": [
    {
     "data": {
      "text/plain": [
       "count    14942.000000\n",
       "mean        15.323317\n",
       "std         14.274867\n",
       "min          0.000000\n",
       "25%          5.000000\n",
       "50%         10.000000\n",
       "75%         20.000000\n",
       "max        100.000000\n",
       "Name: HoursLearning, dtype: float64"
      ]
     },
     "execution_count": 15,
     "metadata": {},
     "output_type": "execute_result"
    }
   ],
   "source": [
    "hours_learning.describe()"
   ]
  },
  {
   "cell_type": "markdown",
   "metadata": {},
   "source": [
    "#### We can see that the count of hours spent learning (14942) is less than the total row count of the data set(15620). This indicates missing data."
   ]
  },
  {
   "cell_type": "code",
   "execution_count": 16,
   "metadata": {},
   "outputs": [
    {
     "data": {
      "text/plain": [
       "(array([    7,    19,    26,    40,    94,   151,   182,   195,   216,\n",
       "          234,   250,   291,   305,   336,   344,   345,   356,   369,\n",
       "          393,   465,   468,   515,   578,   581,   589,   619,   628,\n",
       "          676,   683,   699,   703,   707,   750,   801,   846,   858,\n",
       "          860,   861,   968,   972,   993,  1043,  1046,  1060,  1066,\n",
       "         1069,  1070,  1108,  1182,  1215,  1227,  1240,  1272,  1287,\n",
       "         1358,  1375,  1395,  1427,  1467,  1507,  1524,  1593,  1597,\n",
       "         1632,  1659,  1692,  1706,  1712,  1727,  1728,  1743,  1755,\n",
       "         1761,  1778,  1821,  1849,  1860,  1883,  1943,  1963,  1983,\n",
       "         2001,  2016,  2053,  2058,  2072,  2086,  2090,  2106,  2112,\n",
       "         2138,  2151,  2165,  2172,  2177,  2218,  2232,  2237,  2388,\n",
       "         2404,  2460,  2479,  2486,  2490,  2500,  2508,  2523,  2536,\n",
       "         2538,  2560,  2568,  2589,  2597,  2602,  2637,  2663,  2673,\n",
       "         2702,  2773,  2812,  2815,  2817,  2821,  2824,  2826,  2835,\n",
       "         2836,  2840,  2855,  2862,  2891,  2900,  2920,  2932,  3058,\n",
       "         3095,  3101,  3102,  3118,  3120,  3129,  3131,  3142,  3146,\n",
       "         3215,  3219,  3259,  3284,  3289,  3316,  3370,  3375,  3377,\n",
       "         3417,  3454,  3461,  3472,  3493,  3497,  3515,  3528,  3535,\n",
       "         3545,  3561,  3563,  3570,  3571,  3576,  3578,  3611,  3624,\n",
       "         3671,  3673,  3677,  3689,  3742,  3776,  3798,  3821,  3827,\n",
       "         3836,  3847,  3859,  3879,  3901,  3917,  3927,  3934,  3948,\n",
       "         4023,  4024,  4089,  4136,  4140,  4146,  4185,  4190,  4214,\n",
       "         4229,  4287,  4299,  4302,  4310,  4370,  4371,  4389,  4404,\n",
       "         4415,  4436,  4451,  4462,  4490,  4517,  4520,  4522,  4533,\n",
       "         4548,  4591,  4598,  4654,  4668,  4686,  4693,  4695,  4698,\n",
       "         4725,  4730,  4753,  4768,  4782,  4785,  4790,  4796,  4810,\n",
       "         4817,  4876,  4905,  4913,  4918,  4923,  4930,  4963,  4977,\n",
       "         5015,  5041,  5042,  5080,  5085,  5131,  5142,  5200,  5204,\n",
       "         5205,  5271,  5277,  5279,  5313,  5314,  5318,  5366,  5386,\n",
       "         5401,  5405,  5459,  5500,  5530,  5554,  5594,  5628,  5643,\n",
       "         5694,  5822,  5833,  5838,  5839,  5847,  5876,  5893,  5910,\n",
       "         5913,  5950,  6038,  6060,  6097,  6136,  6257,  6309,  6310,\n",
       "         6316,  6332,  6345,  6378,  6402,  6453,  6454,  6466,  6467,\n",
       "         6481,  6507,  6550,  6597,  6616,  6642,  6645,  6661,  6760,\n",
       "         6774,  6805,  6809,  6829,  6835,  6856,  6924,  6946,  6976,\n",
       "         7000,  7024,  7040,  7062,  7107,  7126,  7130,  7132,  7136,\n",
       "         7139,  7189,  7225,  7290,  7292,  7320,  7332,  7387,  7397,\n",
       "         7474,  7514,  7568,  7637,  7654,  7659,  7712,  7729,  7756,\n",
       "         7770,  7775,  7781,  7784,  7799,  7803,  7806,  7807,  7810,\n",
       "         7868,  7875,  7876,  7877,  7914,  7953,  7986,  8000,  8003,\n",
       "         8006,  8012,  8015,  8048,  8071,  8075,  8100,  8105,  8120,\n",
       "         8144,  8165,  8182,  8185,  8253,  8264,  8294,  8309,  8315,\n",
       "         8364,  8376,  8421,  8436,  8461,  8470,  8480,  8493,  8494,\n",
       "         8501,  8510,  8584,  8622,  8624,  8629,  8635,  8650,  8675,\n",
       "         8676,  8699,  8707,  8709,  8714,  8726,  8736,  8737,  8747,\n",
       "         8749,  8770,  8809,  8832,  8883,  8886,  8893,  8895,  8915,\n",
       "         8934,  9042,  9072,  9078,  9100,  9101,  9114,  9135,  9139,\n",
       "         9154,  9164,  9194,  9206,  9207,  9217,  9260,  9282,  9295,\n",
       "         9296,  9302,  9331,  9332,  9335,  9336,  9346,  9359,  9395,\n",
       "         9397,  9401,  9418,  9420,  9433,  9446,  9458,  9472,  9476,\n",
       "         9491,  9504,  9517,  9527,  9537,  9539,  9541,  9551,  9552,\n",
       "         9557,  9564,  9572,  9580,  9582,  9594,  9604,  9618,  9621,\n",
       "         9625,  9629,  9647,  9683,  9699,  9702,  9705,  9720,  9723,\n",
       "         9736,  9739,  9741,  9752,  9769,  9770,  9778,  9783,  9787,\n",
       "         9788,  9797,  9805,  9817,  9827,  9830,  9851,  9867,  9915,\n",
       "         9918,  9921,  9926,  9928,  9944,  9976,  9980,  9984,  9988,\n",
       "         9992, 10005, 10011, 10012, 10020, 10027, 10029, 10036, 10039,\n",
       "        10044, 10046, 10052, 10053, 10057, 10058, 10077, 10116, 10120,\n",
       "        10145, 10146, 10160, 10172, 10177, 10194, 10221, 10243, 10248,\n",
       "        10251, 10296, 10325, 10347, 10352, 10396, 10420, 10436, 10465,\n",
       "        10554, 10562, 10595, 10606, 10639, 10653, 10685, 10699, 10707,\n",
       "        10741, 10807, 10841, 10850, 10883, 10898, 10931, 10954, 10957,\n",
       "        11010, 11023, 11091, 11095, 11116, 11176, 11212, 11239, 11304,\n",
       "        11315, 11356, 11382, 11391, 11405, 11414, 11481, 11491, 11578,\n",
       "        11609, 11622, 11673, 11700, 11702, 11726, 11731, 11734, 11735,\n",
       "        11739, 11741, 11743, 11766, 11804, 11812, 11815, 11816, 11828,\n",
       "        11865, 11949, 12072, 12090, 12104, 12124, 12205, 12207, 12233,\n",
       "        12267, 12274, 12280, 12311, 12387, 12473, 12547, 12667, 12669,\n",
       "        12690, 12710, 12750, 12838, 12905, 12909, 12951, 12958, 12971,\n",
       "        12998, 13037, 13088, 13106, 13135, 13275, 13287, 13309, 13310,\n",
       "        13345, 13346, 13357, 13508, 13514, 13741, 13772, 13872, 13893,\n",
       "        13915, 13968, 13980, 14158, 14179, 14224, 14244, 14252, 14266,\n",
       "        14274, 14400, 14431, 14458, 14524, 14633, 14696, 14749, 14765,\n",
       "        14787, 14805, 14839, 14933, 14975, 14981, 15057, 15060, 15070,\n",
       "        15089, 15158, 15179, 15206, 15306, 15311, 15362, 15389, 15424,\n",
       "        15446, 15460, 15513]),)"
      ]
     },
     "execution_count": 16,
     "metadata": {},
     "output_type": "execute_result"
    }
   ],
   "source": [
    "missing = np.where(hours_learning.isnull() == True)\n",
    "missing"
   ]
  },
  {
   "cell_type": "code",
   "execution_count": 17,
   "metadata": {},
   "outputs": [
    {
     "data": {
      "text/plain": [
       "678"
      ]
     },
     "execution_count": 17,
     "metadata": {},
     "output_type": "execute_result"
    }
   ],
   "source": [
    "len(missing[0])"
   ]
  },
  {
   "cell_type": "code",
   "execution_count": 18,
   "metadata": {},
   "outputs": [
    {
     "data": {
      "text/plain": [
       "0.04340588988476313"
      ]
     },
     "execution_count": 18,
     "metadata": {},
     "output_type": "execute_result"
    }
   ],
   "source": [
    "678/15620"
   ]
  },
  {
   "cell_type": "markdown",
   "metadata": {},
   "source": [
    "#### It appears 4.34% of Age values are missing."
   ]
  },
  {
   "cell_type": "code",
   "execution_count": 19,
   "metadata": {},
   "outputs": [
    {
     "data": {
      "text/plain": [
       "array([[<matplotlib.axes._subplots.AxesSubplot object at 0x7f8e19601080>]],\n",
       "      dtype=object)"
      ]
     },
     "execution_count": 19,
     "metadata": {},
     "output_type": "execute_result"
    },
    {
     "data": {
      "image/png": "[encoded data removed]",
      "text/plain": [
       "<Figure size 648x432 with 1 Axes>"
      ]
     },
     "metadata": {},
     "output_type": "display_data"
    }
   ],
   "source": [
    "data.hist(column='HoursLearning',    # Column to plot\n",
    "                figsize=(9,6),   # Plot size\n",
    "                bins=20)         # Number of histogram bins"
   ]
  },
  {
   "cell_type": "markdown",
   "metadata": {},
   "source": [
    "#### From the histogram, we see that most people study between 5 and 20 hours, so filling in missing values with a central number like the mean wouldn't be entirely unreasonable. Let's fill in the missing values with the mean value of 15.32."
   ]
  },
  {
   "cell_type": "code",
   "execution_count": 20,
   "metadata": {},
   "outputs": [
    {
     "data": {
      "text/plain": [
       "count    15620.000000\n",
       "mean        15.323173\n",
       "std         13.961604\n",
       "min          0.000000\n",
       "25%          5.000000\n",
       "50%         10.000000\n",
       "75%         20.000000\n",
       "max        100.000000\n",
       "Name: HoursLearning, dtype: float64"
      ]
     },
     "execution_count": 20,
     "metadata": {},
     "output_type": "execute_result"
    }
   ],
   "source": [
    "new_hours_var = np.where(hours_learning.isnull(), # Logical check\n",
    "                       15.32,                       # Value if check is true\n",
    "                       hours_learning)     # Value if check is false\n",
    "\n",
    "data[\"HoursLearning\"] = new_hours_var \n",
    "data[\"HoursLearning\"].describe()"
   ]
  },
  {
   "cell_type": "code",
   "execution_count": 21,
   "metadata": {},
   "outputs": [
    {
     "data": {
      "text/plain": [
       "count     13746\n",
       "unique        5\n",
       "top        male\n",
       "freq      10766\n",
       "Name: Gender, dtype: object"
      ]
     },
     "execution_count": 21,
     "metadata": {},
     "output_type": "execute_result"
    }
   ],
   "source": [
    "data[\"Gender\"].describe() "
   ]
  },
  {
   "cell_type": "code",
   "execution_count": 22,
   "metadata": {},
   "outputs": [
    {
     "data": {
      "text/plain": [
       "(array([   89,   569,   614, ..., 14096, 14376, 14457]),)"
      ]
     },
     "execution_count": 22,
     "metadata": {},
     "output_type": "execute_result"
    }
   ],
   "source": [
    "missing = np.where(data[\"Gender\"].isnull() == True)\n",
    "missing"
   ]
  },
  {
   "cell_type": "code",
   "execution_count": 23,
   "metadata": {},
   "outputs": [
    {
     "data": {
      "text/plain": [
       "1874"
      ]
     },
     "execution_count": 23,
     "metadata": {},
     "output_type": "execute_result"
    }
   ],
   "source": [
    "len(missing[0])"
   ]
  },
  {
   "cell_type": "code",
   "execution_count": 24,
   "metadata": {},
   "outputs": [
    {
     "data": {
      "text/plain": [
       "0.11997439180537772"
      ]
     },
     "execution_count": 24,
     "metadata": {},
     "output_type": "execute_result"
    }
   ],
   "source": [
    "1874/15620"
   ]
  },
  {
   "cell_type": "code",
   "execution_count": 37,
   "metadata": {},
   "outputs": [
    {
     "data": {
      "text/plain": [
       "count     15620\n",
       "unique        6\n",
       "top        male\n",
       "freq      10766\n",
       "Name: Gender, dtype: object"
      ]
     },
     "execution_count": 37,
     "metadata": {},
     "output_type": "execute_result"
    }
   ],
   "source": [
    "new_gender_var = np.where(data[\"Gender\"].isnull(), # Logical check\n",
    "                       \"Other\",                       # Value if check is true\n",
    "                       data[\"Gender\"])     # Value if check is false\n",
    "\n",
    "data[\"Gender\"] = new_gender_var \n",
    "data[\"Gender\"].describe()"
   ]
  },
  {
   "cell_type": "markdown",
   "metadata": {},
   "source": [
    "#### The Gender variable had originally 5 unique categories and we created a new category called \"NewGender\" for all 1874 missing values that represented 11.99% of total values for this variable."
   ]
  },
  {
   "cell_type": "code",
   "execution_count": 26,
   "metadata": {},
   "outputs": [
    {
     "data": {
      "text/html": [
       "<div>\n",
       "<style scoped>\n",
       "    .dataframe tbody tr th:only-of-type {\n",
       "        vertical-align: middle;\n",
       "    }\n",
       "\n",
       "    .dataframe tbody tr th {\n",
       "        vertical-align: top;\n",
       "    }\n",
       "\n",
       "    .dataframe thead th {\n",
       "        text-align: right;\n",
       "    }\n",
       "</style>\n",
       "<table border=\"1\" class=\"dataframe\">\n",
       "  <thead>\n",
       "    <tr style=\"text-align: right;\">\n",
       "      <th></th>\n",
       "      <th>counts</th>\n",
       "      <th>freqs</th>\n",
       "    </tr>\n",
       "    <tr>\n",
       "      <th>categories</th>\n",
       "      <th></th>\n",
       "      <th></th>\n",
       "    </tr>\n",
       "  </thead>\n",
       "  <tbody>\n",
       "    <tr>\n",
       "      <th>NewGender</th>\n",
       "      <td>1874</td>\n",
       "      <td>0.119974</td>\n",
       "    </tr>\n",
       "    <tr>\n",
       "      <th>agender</th>\n",
       "      <td>38</td>\n",
       "      <td>0.002433</td>\n",
       "    </tr>\n",
       "    <tr>\n",
       "      <th>female</th>\n",
       "      <td>2840</td>\n",
       "      <td>0.181818</td>\n",
       "    </tr>\n",
       "    <tr>\n",
       "      <th>genderqueer</th>\n",
       "      <td>66</td>\n",
       "      <td>0.004225</td>\n",
       "    </tr>\n",
       "    <tr>\n",
       "      <th>male</th>\n",
       "      <td>10766</td>\n",
       "      <td>0.689245</td>\n",
       "    </tr>\n",
       "    <tr>\n",
       "      <th>trans</th>\n",
       "      <td>36</td>\n",
       "      <td>0.002305</td>\n",
       "    </tr>\n",
       "  </tbody>\n",
       "</table>\n",
       "</div>"
      ],
      "text/plain": [
       "             counts     freqs\n",
       "categories                   \n",
       "NewGender      1874  0.119974\n",
       "agender          38  0.002433\n",
       "female         2840  0.181818\n",
       "genderqueer      66  0.004225\n",
       "male          10766  0.689245\n",
       "trans            36  0.002305"
      ]
     },
     "execution_count": 26,
     "metadata": {},
     "output_type": "execute_result"
    }
   ],
   "source": [
    "pd.Categorical(data[\"Gender\"]).describe()"
   ]
  },
  {
   "cell_type": "markdown",
   "metadata": {},
   "source": [
    "#### We can see the males account for 68.92% of the population."
   ]
  },
  {
   "cell_type": "code",
   "execution_count": 38,
   "metadata": {},
   "outputs": [],
   "source": [
    "data_gender = data.groupby(['Gender']).size()"
   ]
  },
  {
   "cell_type": "code",
   "execution_count": 39,
   "metadata": {},
   "outputs": [
    {
     "name": "stdout",
     "output_type": "stream",
     "text": [
      "Gender\n",
      "NewGender       1874\n",
      "agender           38\n",
      "female          2840\n",
      "genderqueer       66\n",
      "male           10766\n",
      "trans             36\n",
      "dtype: int64\n"
     ]
    }
   ],
   "source": [
    "print(data_gender)"
   ]
  },
  {
   "cell_type": "code",
   "execution_count": 41,
   "metadata": {},
   "outputs": [
    {
     "data": {
      "image/png": "[encoded data removed]",
      "text/plain": [
       "<Figure size 432x288 with 1 Axes>"
      ]
     },
     "metadata": {},
     "output_type": "display_data"
    }
   ],
   "source": [
    "\"\"\"\n",
    "===============\n",
    "Basic pie chart\n",
    "===============\n",
    "\n",
    "Demo of a basic pie chart plus a few additional features.\n",
    "\n",
    "In addition to the basic pie chart, this demo shows a few optional features:\n",
    "\n",
    "    * slice labels\n",
    "    * auto-labeling the percentage\n",
    "    * offsetting a slice with \"explode\"\n",
    "    * drop-shadow\n",
    "    * custom start angle\n",
    "\n",
    "Note about the custom start angle:\n",
    "\n",
    "The default ``startangle`` is 0, which would start the \"Frogs\" slice on the\n",
    "positive x-axis. This example sets ``startangle = 90`` such that everything is\n",
    "rotated counter-clockwise by 90 degrees, and the frog slice starts on the\n",
    "positive y-axis.\n",
    "\"\"\"\n",
    "import matplotlib.pyplot as plt\n",
    "\n",
    "# Pie chart, where the slices will be ordered and plotted counter-clockwise:\n",
    "labels = 'other','agender', 'female', 'genderqueer', 'male', 'trans'\n",
    "sizes = [1874, 38, 2840, 66, 10766, 36]\n",
    "explode = (0, 0, 0.1, 0, 0, 0)  # only \"explode\" the 2nd slice (i.e. 'Hogs')\n",
    "\n",
    "data_gender, ax1 = plt.subplots()\n",
    "ax1.pie(sizes, explode=explode, labels=labels, autopct='%1.1f%%',\n",
    "        shadow=True, startangle=90)\n",
    "ax1.axis('equal')  # Equal aspect ratio ensures that pie is drawn as a circle.\n",
    "\n",
    "plt.show()\n"
   ]
  },
  {
   "cell_type": "markdown",
   "metadata": {},
   "source": [
    "# link \n",
    "http://hamelg.blogspot.com/2015/11/python-for-data-analysis-part-14.html"
   ]
  },
  {
   "cell_type": "code",
   "execution_count": 27,
   "metadata": {},
   "outputs": [
    {
     "name": "stderr",
     "output_type": "stream",
     "text": [
      "/home/asustic/anaconda3/lib/python3.6/site-packages/matplotlib/axes/_axes.py:6462: UserWarning: The 'normed' kwarg is deprecated, and has been replaced by the 'density' kwarg.\n",
      "  warnings.warn(\"The 'normed' kwarg is deprecated, and has been \"\n",
      "/home/asustic/anaconda3/lib/python3.6/site-packages/matplotlib/axes/_axes.py:6462: UserWarning: The 'normed' kwarg is deprecated, and has been replaced by the 'density' kwarg.\n",
      "  warnings.warn(\"The 'normed' kwarg is deprecated, and has been \"\n"
     ]
    },
    {
     "data": {
      "text/plain": [
       "<seaborn.axisgrid.JointGrid at 0x7f8e195362b0>"
      ]
     },
     "execution_count": 27,
     "metadata": {},
     "output_type": "execute_result"
    },
    {
     "data": {
      "image/png": "[encoded data removed]",
      "text/plain": [
       "<Figure size 432x432 with 3 Axes>"
      ]
     },
     "metadata": {},
     "output_type": "display_data"
    }
   ],
   "source": [
    "seaborn.jointplot(x = 'Age', y = 'HoursLearning', data = data)"
   ]
  },
  {
   "cell_type": "code",
   "execution_count": 28,
   "metadata": {},
   "outputs": [
    {
     "data": {
      "text/plain": [
       "<seaborn.axisgrid.JointGrid at 0x7f8e12e92cf8>"
      ]
     },
     "execution_count": 28,
     "metadata": {},
     "output_type": "execute_result"
    },
    {
     "data": {
      "image/png": "[encoded data removed]",
      "text/plain": [
       "<Figure size 432x432 with 3 Axes>"
      ]
     },
     "metadata": {},
     "output_type": "display_data"
    }
   ],
   "source": [
    "seaborn.jointplot(x = 'Age', y = 'HoursLearning', data = data, kind = 'kde', color = 'r')"
   ]
  },
  {
   "cell_type": "code",
   "execution_count": 34,
   "metadata": {},
   "outputs": [],
   "source": [
    "# seaborn.swarmplot(x = 'Gender', y = 'HoursLearning', data = data) #this plot takes too much time to compute"
   ]
  },
  {
   "cell_type": "code",
   "execution_count": 30,
   "metadata": {},
   "outputs": [
    {
     "data": {
      "image/png": "[encoded data removed]",
      "text/plain": [
       "<Figure size 432x288 with 1 Axes>"
      ]
     },
     "metadata": {},
     "output_type": "display_data"
    }
   ],
   "source": [
    "ax = seaborn.violinplot(x = \"Gender\", y = \"HoursLearning\", data = data, inner = 'box')"
   ]
  },
  {
   "cell_type": "code",
   "execution_count": 31,
   "metadata": {},
   "outputs": [
    {
     "data": {
      "text/plain": [
       "<matplotlib.axes._subplots.AxesSubplot at 0x7f8e117fd470>"
      ]
     },
     "execution_count": 31,
     "metadata": {},
     "output_type": "execute_result"
    },
    {
     "data": {
      "image/png": "[encoded data removed]",
      "text/plain": [
       "<Figure size 432x288 with 1 Axes>"
      ]
     },
     "metadata": {},
     "output_type": "display_data"
    }
   ],
   "source": [
    "seaborn.boxplot(x = 'Gender', y = 'HoursLearning', data = data)"
   ]
  },
  {
   "cell_type": "code",
   "execution_count": 32,
   "metadata": {},
   "outputs": [
    {
     "name": "stderr",
     "output_type": "stream",
     "text": [
      "/home/asustic/anaconda3/lib/python3.6/site-packages/matplotlib/axes/_axes.py:6462: UserWarning: The 'normed' kwarg is deprecated, and has been replaced by the 'density' kwarg.\n",
      "  warnings.warn(\"The 'normed' kwarg is deprecated, and has been \"\n"
     ]
    },
    {
     "data": {
      "text/plain": [
       "<matplotlib.axes._subplots.AxesSubplot at 0x7f8e117f5940>"
      ]
     },
     "execution_count": 32,
     "metadata": {},
     "output_type": "execute_result"
    },
    {
     "data": {
      "image/png": "[encoded data removed]",
      "text/plain": [
       "<Figure size 432x288 with 1 Axes>"
      ]
     },
     "metadata": {},
     "output_type": "display_data"
    }
   ],
   "source": [
    "seaborn.distplot(data['Age'], color='green')"
   ]
  },
  {
   "cell_type": "code",
   "execution_count": 33,
   "metadata": {},
   "outputs": [
    {
     "data": {
      "text/plain": [
       "<matplotlib.axes._subplots.AxesSubplot at 0x7f8e116829b0>"
      ]
     },
     "execution_count": 33,
     "metadata": {},
     "output_type": "execute_result"
    },
    {
     "data": {
      "image/png": "[encoded data removed]",
      "text/plain": [
       "<Figure size 432x288 with 1 Axes>"
      ]
     },
     "metadata": {},
     "output_type": "display_data"
    }
   ],
   "source": [
    "seaborn.regplot(x = 'Age', y = 'HoursLearning', data = data, x_estimator = np.mean)"
   ]
  },
  {
   "cell_type": "code",
   "execution_count": 42,
   "metadata": {},
   "outputs": [],
   "source": [
    "female_data = data[data['Gender'] == 'female']\n",
    "male_data = data[data['Gender'] == 'male']\n",
    "agender_data = data[data['Gender'] == 'agender']\n",
    "trans_data = data[data['Gender'] == 'trans']\n",
    "genderqueer_data = data[data['Gender']=='genderqueer']"
   ]
  },
  {
   "cell_type": "code",
   "execution_count": 44,
   "metadata": {},
   "outputs": [
    {
     "name": "stderr",
     "output_type": "stream",
     "text": [
      "/home/asustic/anaconda3/lib/python3.6/site-packages/matplotlib/axes/_axes.py:6462: UserWarning: The 'normed' kwarg is deprecated, and has been replaced by the 'density' kwarg.\n",
      "  warnings.warn(\"The 'normed' kwarg is deprecated, and has been \"\n"
     ]
    },
    {
     "data": {
      "text/plain": [
       "<matplotlib.axes._subplots.AxesSubplot at 0x7f8e114b3cc0>"
      ]
     },
     "execution_count": 44,
     "metadata": {},
     "output_type": "execute_result"
    },
    {
     "data": {
      "image/png": "[encoded data removed]",
      "text/plain": [
       "<Figure size 432x288 with 1 Axes>"
      ]
     },
     "metadata": {},
     "output_type": "display_data"
    }
   ],
   "source": [
    "seaborn.distplot(female_data['Age'], color='red')"
   ]
  },
  {
   "cell_type": "code",
   "execution_count": 45,
   "metadata": {},
   "outputs": [
    {
     "name": "stderr",
     "output_type": "stream",
     "text": [
      "/home/asustic/anaconda3/lib/python3.6/site-packages/matplotlib/axes/_axes.py:6462: UserWarning: The 'normed' kwarg is deprecated, and has been replaced by the 'density' kwarg.\n",
      "  warnings.warn(\"The 'normed' kwarg is deprecated, and has been \"\n"
     ]
    },
    {
     "data": {
      "text/plain": [
       "<matplotlib.axes._subplots.AxesSubplot at 0x7f8e11453e10>"
      ]
     },
     "execution_count": 45,
     "metadata": {},
     "output_type": "execute_result"
    },
    {
     "data": {
      "image/png": "[encoded data removed]",
      "text/plain": [
       "<Figure size 432x288 with 1 Axes>"
      ]
     },
     "metadata": {},
     "output_type": "display_data"
    }
   ],
   "source": [
    "seaborn.distplot(male_data['Age'], color='blue')"
   ]
  },
  {
   "cell_type": "code",
   "execution_count": null,
   "metadata": {},
   "outputs": [],
   "source": []
  }
 ],
 "metadata": {
  "kernelspec": {
   "display_name": "Python 3",
   "language": "python",
   "name": "python3"
  },
  "language_info": {
   "codemirror_mode": {
    "name": "ipython",
    "version": 3
   },
   "file_extension": ".py",
   "mimetype": "text/x-python",
   "name": "python",
   "nbconvert_exporter": "python",
   "pygments_lexer": "ipython3",
   "version": "3.6.5"
  }
 },
 "nbformat": 4,
 "nbformat_minor": 2
}
